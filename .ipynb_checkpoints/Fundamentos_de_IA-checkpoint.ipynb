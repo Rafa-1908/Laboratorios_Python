{
 "cells": [
  {
   "cell_type": "markdown",
   "id": "55388e55",
   "metadata": {},
   "source": [
    "FUNDAMENTOS DE INTELIGENCIA ARTIFICIAL\n",
    "\n",
    "Funciones"
   ]
  },
  {
   "cell_type": "markdown",
   "id": "df896872",
   "metadata": {},
   "source": [
    "Se tiene la siguiente función matemática: F(x)=2x+3 la cual se requiere implementar en Python, desarrolle la programación para el ingreso de un valor para X "
   ]
  },
  {
   "cell_type": "code",
   "execution_count": 1,
   "id": "7f828099",
   "metadata": {},
   "outputs": [
    {
     "name": "stdout",
     "output_type": "stream",
     "text": [
      "Ingrese un valor de x: 5\n",
      "El valor de F(x) para x= 5.0  es:  13.0\n"
     ]
    }
   ],
   "source": [
    "#definimos la funcion\n",
    "def CalcularFX(x):\n",
    "    return (2*x)+3\n",
    "#ingresando el valor por teclado\n",
    "x=float(input(\"Ingrese un valor de x: \"))\n",
    "\n",
    "#Llamamos a la funcion\n",
    "res=CalcularFX(x)\n",
    "\n",
    "#Imprimimos\n",
    "print(\"El valor de F(x) para x=\",x,\" es: \", res)"
   ]
  },
  {
   "cell_type": "code",
   "execution_count": 8,
   "id": "45a0e35e",
   "metadata": {},
   "outputs": [
    {
     "name": "stdout",
     "output_type": "stream",
     "text": [
      "Ingrese el valor de x: 4\n",
      "El resultado de F(x) es: 11.0\n"
     ]
    }
   ],
   "source": [
    "def F(x):\n",
    "    return 2*x + 3\n",
    "\n",
    "def main():\n",
    "    try:\n",
    "        x = float(input(\"Ingrese el valor de x: \"))\n",
    "        resultado = F(x)\n",
    "        print(\"El resultado de F(x) es:\", resultado)\n",
    "    except ValueError:\n",
    "        print(\"Por favor ingrese un valor numérico válido para x.\")\n",
    "\n",
    "if __name__ == \"__main__\":\n",
    "    main()\n"
   ]
  },
  {
   "cell_type": "code",
   "execution_count": 20,
   "id": "3367f14f",
   "metadata": {},
   "outputs": [
    {
     "name": "stdout",
     "output_type": "stream",
     "text": [
      "Ingresa el valor de x: 5\n",
      "El resultado de F(x) es:  13.0\n"
     ]
    }
   ],
   "source": [
    "def F(x):\n",
    "    return 2*x + 3\n",
    "\n",
    "def res():\n",
    "    try:\n",
    "        x = float(input(\"Ingresa el valor de x: \"))\n",
    "        resultado = F(x)\n",
    "        print(\"El resultado de F(x) es: \", resultado)\n",
    "        \n",
    "    except ValueError:\n",
    "            print(\"Por favor ingrese el valor númerico valido para x.\")\n",
    "            \n",
    "if __name__ == \"__main__\":\n",
    "    res()"
   ]
  },
  {
   "cell_type": "markdown",
   "id": "accf0188",
   "metadata": {},
   "source": [
    "Se tiene la siguiente función matemática: F(x)=2x+3 la cual se requiere implementar en Python, desarrolle la programación para el ingreso de un valor para varios valores de x"
   ]
  },
  {
   "cell_type": "code",
   "execution_count": 21,
   "id": "ab9a8ba8",
   "metadata": {},
   "outputs": [
    {
     "name": "stdout",
     "output_type": "stream",
     "text": [
      "Ingresa la cantidad de valores de x3\n",
      "Ingresa el valor 1 de x: 12\n",
      "Ingresa el valor 2 de x: 5\n",
      "Ingresa el valor 3 de x: 14\n",
      "El valor de F(X) para x= 12.0  es:  27.0\n",
      "El valor de F(X) para x= 5.0  es:  13.0\n",
      "El valor de F(X) para x= 14.0  es:  31.0\n"
     ]
    }
   ],
   "source": [
    "#definimos la funcion\n",
    "def CalcularFX(x):\n",
    "    return (2*x)+3\n",
    "\n",
    "#ingresar la cantidad de valores que tendrá x\n",
    "n=int(input(\"Ingresa la cantidad de valores de x\"))\n",
    "\n",
    "#declaramos un arreglo para los valores de x\n",
    "x=[]\n",
    "\n",
    "#ingresando los valores de x\n",
    "for i in range(n):\n",
    "    valor_x=float(input(f\"Ingresa el valor {i+1} de x: \"))\n",
    "    x.append(valor_x)\n",
    "    \n",
    "#llamamos a la funcion para realizar los calculos\n",
    "res=[CalcularFX(valor) for valor in x]\n",
    "\n",
    "#mostramos resultados\n",
    "for i,resultado in enumerate(res):\n",
    "    print(\"El valor de F(X) para x=\", x[i],\" es: \", resultado)"
   ]
  },
  {
   "cell_type": "code",
   "execution_count": null,
   "id": "ebaf4428",
   "metadata": {},
   "outputs": [],
   "source": []
  }
 ],
 "metadata": {
  "kernelspec": {
   "display_name": "Python 3",
   "language": "python",
   "name": "python3"
  },
  "language_info": {
   "codemirror_mode": {
    "name": "ipython",
    "version": 3
   },
   "file_extension": ".py",
   "mimetype": "text/x-python",
   "name": "python",
   "nbconvert_exporter": "python",
   "pygments_lexer": "ipython3",
   "version": "3.8.8"
  }
 },
 "nbformat": 4,
 "nbformat_minor": 5
}
