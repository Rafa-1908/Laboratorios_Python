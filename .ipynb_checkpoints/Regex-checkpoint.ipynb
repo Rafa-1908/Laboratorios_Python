{
 "cells": [
  {
   "cell_type": "code",
   "execution_count": 1,
   "id": "830a7c53",
   "metadata": {},
   "outputs": [],
   "source": [
    "import re\n",
    "import pandas as pd"
   ]
  },
  {
   "cell_type": "markdown",
   "id": "40324197",
   "metadata": {},
   "source": [
    "## Introducción a expresiones regulares\n",
    "\n",
    "Son patrones utilizados para encontrar una determinada combinación de caracteres dentro de una cadena de texto"
   ]
  },
  {
   "cell_type": "code",
   "execution_count": 4,
   "id": "0d4f376c",
   "metadata": {},
   "outputs": [],
   "source": [
    "Texto='''Juan Diego Gomez 3213213 rojo azul verde juan@mail.com\n",
    "Juan Camilo Perez 4341234 azul azul verde camilo@mail.com\n",
    "Ana Maria Avila 2331123123 verde verde verde anamail.com'''"
   ]
  },
  {
   "cell_type": "code",
   "execution_count": 6,
   "id": "20040276",
   "metadata": {},
   "outputs": [
    {
     "name": "stdout",
     "output_type": "stream",
     "text": [
      "Palabra encontrada\n"
     ]
    }
   ],
   "source": [
    "if re.search('rojo',Texto):\n",
    "    print('Palabra encontrada')\n",
    "else:\n",
    "    print('Palabra no encontrada')"
   ]
  },
  {
   "cell_type": "code",
   "execution_count": 7,
   "id": "7e6d2700",
   "metadata": {},
   "outputs": [
    {
     "data": {
      "text/plain": [
       "['azul', 'azul', 'azul']"
      ]
     },
     "execution_count": 7,
     "metadata": {},
     "output_type": "execute_result"
    }
   ],
   "source": [
    "re.findall('azul',Texto)"
   ]
  },
  {
   "cell_type": "code",
   "execution_count": 10,
   "id": "23c85fd4",
   "metadata": {},
   "outputs": [
    {
     "data": {
      "text/plain": [
       "<re.Match object; span=(25, 29), match='rojo'>"
      ]
     },
     "execution_count": 10,
     "metadata": {},
     "output_type": "execute_result"
    }
   ],
   "source": [
    "re.search('rojo',Texto)"
   ]
  },
  {
   "cell_type": "code",
   "execution_count": 14,
   "id": "901f5a70",
   "metadata": {},
   "outputs": [
    {
     "data": {
      "text/plain": [
       "['Juan', 'juan', 'Juan']"
      ]
     },
     "execution_count": 14,
     "metadata": {},
     "output_type": "execute_result"
    }
   ],
   "source": [
    "re.findall('juan',Texto, re.I) #El \"re.I\" ignora las minusculas y las mayúsculas, de esa manera encuentra la petición de la palabra requerida, sea minúscula o mayúscula, y el \"re.I\" se le conoce como flag o bandera."
   ]
  },
  {
   "cell_type": "markdown",
   "id": "0c1cca19",
   "metadata": {},
   "source": [
    "### Límites\n",
    "- \\b - Limite de Palabra\n",
    "- \\B - No es un Limite de Palabra\n",
    "- ^  - Inicio de una cadena de texto\n",
    "- $  - Final de una cadena de texto"
   ]
  },
  {
   "cell_type": "code",
   "execution_count": 16,
   "id": "506c8a8a",
   "metadata": {},
   "outputs": [
    {
     "data": {
      "text/plain": [
       "['Juan', 'Juan']"
      ]
     },
     "execution_count": 16,
     "metadata": {},
     "output_type": "execute_result"
    }
   ],
   "source": [
    "re.findall('^Juan',Texto,re.M)"
   ]
  },
  {
   "cell_type": "code",
   "execution_count": 19,
   "id": "4ae44f51",
   "metadata": {},
   "outputs": [
    {
     "data": {
      "text/plain": [
       "['com', 'com', 'com']"
      ]
     },
     "execution_count": 19,
     "metadata": {},
     "output_type": "execute_result"
    }
   ],
   "source": [
    "re.findall('com$',Texto,re.M)"
   ]
  },
  {
   "cell_type": "code",
   "execution_count": 21,
   "id": "ad05e903",
   "metadata": {},
   "outputs": [
    {
     "data": {
      "text/plain": [
       "['3']"
      ]
     },
     "execution_count": 21,
     "metadata": {},
     "output_type": "execute_result"
    }
   ],
   "source": [
    "re.findall(r'\\b3',Texto)"
   ]
  },
  {
   "cell_type": "code",
   "execution_count": 22,
   "id": "7c23cfa9",
   "metadata": {},
   "outputs": [
    {
     "data": {
      "text/plain": [
       "['3', '3']"
      ]
     },
     "execution_count": 22,
     "metadata": {},
     "output_type": "execute_result"
    }
   ],
   "source": [
    "re.findall(r'3\\b',Texto)"
   ]
  },
  {
   "cell_type": "code",
   "execution_count": 25,
   "id": "4e0853dd",
   "metadata": {},
   "outputs": [
    {
     "data": {
      "text/plain": [
       "['4', '4']"
      ]
     },
     "execution_count": 25,
     "metadata": {},
     "output_type": "execute_result"
    }
   ],
   "source": [
    "re.findall(r'4\\B',Texto)"
   ]
  },
  {
   "cell_type": "markdown",
   "id": "cddafa90",
   "metadata": {},
   "source": [
    "### Coincidencias Basicas\n",
    "\n",
    ".  - Cualquier Caracter, excepto nueva linea\n",
    "\n",
    "\\d - Cualquier Digitos (0-9)\n",
    "\n",
    "\\D - No es un Digito(0-9)\n",
    "\n",
    "\\w - Caracter de Palabra(a-z,A-Z,0-9, _)\n",
    "\n",
    "\\W - No es un caracter de Palabra\n",
    "\n",
    "\\s - Espacios de cualquier tipo [espacio, tab, nueva linea]\n",
    "\n",
    "\\S - No es un Espacio, Tab o nueva linea\n",
    "\n",
    "### Cuantificadores:\n",
    "*-0 o Más\n",
    "\n",
    "+-1 o Más\n",
    "\n",
    "?-0 o Uno\n",
    " \n",
    "{3} - Número Exacto\n",
    "\n",
    "{1,4} - Rango de Números (Minímo, Máximo)\n"
   ]
  },
  {
   "cell_type": "code",
   "execution_count": 27,
   "id": "06af6bbf",
   "metadata": {},
   "outputs": [],
   "source": [
    "Texto2='''Beto M1235 M\n",
    "Ana U1246 S\n",
    "Jaime M432 S\n",
    "Maria U324 M'''"
   ]
  },
  {
   "cell_type": "code",
   "execution_count": 30,
   "id": "6905abfd",
   "metadata": {},
   "outputs": [
    {
     "data": {
      "text/plain": [
       "['Beto',\n",
       " 'M1235',\n",
       " 'M',\n",
       " 'Ana',\n",
       " 'U1246',\n",
       " 'S',\n",
       " 'Jaime',\n",
       " 'M432',\n",
       " 'S',\n",
       " 'Maria',\n",
       " 'U324',\n",
       " 'M']"
      ]
     },
     "execution_count": 30,
     "metadata": {},
     "output_type": "execute_result"
    }
   ],
   "source": [
    "re.findall(r'\\w+',Texto2)"
   ]
  },
  {
   "cell_type": "code",
   "execution_count": 31,
   "id": "6be33b2c",
   "metadata": {},
   "outputs": [
    {
     "data": {
      "text/plain": [
       "['M1235', 'M432']"
      ]
     },
     "execution_count": 31,
     "metadata": {},
     "output_type": "execute_result"
    }
   ],
   "source": [
    "re.findall(r'M\\d+',Texto2)"
   ]
  },
  {
   "cell_type": "code",
   "execution_count": 33,
   "id": "bc1e0cfa",
   "metadata": {},
   "outputs": [
    {
     "data": {
      "text/plain": [
       "['M123', 'M432']"
      ]
     },
     "execution_count": 33,
     "metadata": {},
     "output_type": "execute_result"
    }
   ],
   "source": [
    "re.findall(r'M\\d{3}',Texto2)"
   ]
  },
  {
   "cell_type": "code",
   "execution_count": 5,
   "id": "f97668c5",
   "metadata": {},
   "outputs": [
    {
     "data": {
      "text/plain": [
       "['juan@mail.com', 'camilo@mail.com']"
      ]
     },
     "execution_count": 5,
     "metadata": {},
     "output_type": "execute_result"
    }
   ],
   "source": [
    "re.findall(r'\\w+@mail.com',Texto)"
   ]
  },
  {
   "cell_type": "code",
   "execution_count": null,
   "id": "92f512e6",
   "metadata": {},
   "outputs": [],
   "source": [
    "re.findall(r'\\w+@mail.com',Texto)"
   ]
  },
  {
   "cell_type": "markdown",
   "id": "d71d0783",
   "metadata": {},
   "source": [
    "### Conjuntos de Caracteres\n",
    "\n",
    "[] - Caracteres dentro de los brackets\n",
    "\n",
    "[^] . Caracteres que no estan dentro de los brackets\n",
    "\n",
    "### Grupos\n",
    "\n",
    "() - Grupo\n",
    "\n",
    "| - Uno o otro"
   ]
  },
  {
   "cell_type": "code",
   "execution_count": 6,
   "id": "b23cc713",
   "metadata": {},
   "outputs": [],
   "source": [
    "Texto3='''ruta12: http://pagina.com\n",
    "ruta15: https://ejemplo.com\n",
    "ruta22: http://www.pagina.com\n",
    "ruta38: https://www.ejemplo.com'''"
   ]
  },
  {
   "cell_type": "code",
   "execution_count": 13,
   "id": "fbc7b6c5",
   "metadata": {},
   "outputs": [
    {
     "data": {
      "text/plain": [
       "['ruta12', 'ruta22']"
      ]
     },
     "execution_count": 13,
     "metadata": {},
     "output_type": "execute_result"
    }
   ],
   "source": [
    "re.findall(r'ruta[1-4]{2}',Texto3)"
   ]
  },
  {
   "cell_type": "code",
   "execution_count": 18,
   "id": "56e614f0",
   "metadata": {},
   "outputs": [
    {
     "name": "stdout",
     "output_type": "stream",
     "text": [
      "['http://pagina.com', 'https://ejemplo.com', 'http://www.pagina.com', 'https://www.ejemplo.com']\n"
     ]
    }
   ],
   "source": [
    "paginas=re.findall(r'(https://|http://)(w{3}.?)?(\\w+.com)',Texto3)\n",
    "paginas=[''.join(pagina) for pagina in paginas]\n",
    "print(paginas)"
   ]
  },
  {
   "cell_type": "code",
   "execution_count": 20,
   "id": "6d5a7bb7",
   "metadata": {},
   "outputs": [
    {
     "name": "stdout",
     "output_type": "stream",
     "text": [
      "['http://pagina.com', 'https://ejemplo.com', 'http://www.pagina.com', 'https://www.ejemplo.com']\n"
     ]
    }
   ],
   "source": [
    "paginas=re.findall(r'(https?://)(w{3}.?)?(\\w+.com)',Texto3) #Opcional https?://\n",
    "paginas=[''.join(pagina) for pagina in paginas]\n",
    "print(paginas) "
   ]
  },
  {
   "cell_type": "markdown",
   "id": "29954316",
   "metadata": {},
   "source": [
    "### Importando un archivo de texto"
   ]
  },
  {
   "cell_type": "code",
   "execution_count": 21,
   "id": "0cc8d193",
   "metadata": {},
   "outputs": [],
   "source": [
    "doc=open('datasets/regex.txt','r')\n",
    "texto=doc.read()\n",
    "doc.close()"
   ]
  },
  {
   "cell_type": "code",
   "execution_count": 22,
   "id": "2cf9c7d7",
   "metadata": {},
   "outputs": [
    {
     "name": "stdout",
     "output_type": "stream",
     "text": [
      "\"Muchos aÃ±os despuÃ©s, frente al pelotÃ³n de fusilamiento, el coronel aureliano BuendÃ­a habÃ­a de recordar aquella tarde remota en que su padre lo llevÃ³ a conocer el hielo. Macondo era entonces una aldea de veinte casas de barro y caÃ±abrava construida a la orilla de un rÃ­o de aguas diÃ¡fanas que se precipitaban por un lecho de piedras pulidas, blancas y enormes como huevos prehistÃ³ricos. El mundo era tan reciente, que muchas cosas carecÃ­an de nombre, y para mencionarlas habÃ­a que seÃ±alarlas con el dedo.\n",
      "(...)\n",
      "JosÃ© Arcadio BuendÃ­a, que era el hombre mÃ¡s emprendedor que se verÃ­a jamÃ¡s en la aldea, habÃ­a dispuesto de tal modo la posiciÃ³n de las casas, que desde todas podÃ­a llegarse al rÃ­o y abastecerse de agua con igual esfuerzo, y trazÃ³ las calles con tan buen sentido que ninguna casa recibÃ­a mÃ¡s sol que otra a la hora del calor. En pocos aÃ±os, Macondo fue una aldea mÃ¡s ordenada y laboriosa que cualquiera de las conocidas hasta entonces por sus trescientos habitantes. Era en verdad una aldea feliz, donde nadie era mayor de treinta aÃ±os y donde nadie habÃ­a muerto.\n",
      "(...)\n",
      "Vio una mujer vestida de oro en el cogote de un elefante. Vio un dromedario triste. Vio un oso vestido de holandesa que marcaba el compÃ¡s de la mÃºsica con un cucharÃ³n y una cacerola. Vio a los payasos haciendo maromas en la cola del desfile, y le vio otra vez la cara a su soledad miserable cuando todo acabÃ³ de pasar, y no quedÃ³ sino el luminoso espacio en la calle, y el aire lleno de hormigas voladoras, y unos cuantos curiosos asomados al precipicio de la incertidumbre. Entonces fue el castaÃ±o, pensando en el circo, y mientras orinaba tratÃ³ de seguir pensando en el circo, pero ya no encontrÃ³ el recuerdo. MetiÃ³ la cabeza entre los hombros, como un pollito, y se quedÃ³ inmÃ³vil con la frente apoyada en el tronco del castaÃ±o.\n",
      "(...)\n",
      "En aquÃ©l Macondo olvidado hasta por los pÃ¡jaros, dÃ³nde el polvo y el calor se habÃ­an hecho tan tenaces que costaba trabajo respirar, recluidos por la soledad y el amor y por la soledad del amor en una casa dÃ³nde era casi imposible dormir por el estruendo de las hormigas coloradas, Aureliano y Amaranta Ursula eran los Ãºnicos seres felices, y los mÃ¡s felices sobre la tierra.\"\n"
     ]
    }
   ],
   "source": [
    "print(texto)"
   ]
  },
  {
   "cell_type": "code",
   "execution_count": 24,
   "id": "84f1f4a6",
   "metadata": {},
   "outputs": [
    {
     "data": {
      "text/plain": [
       "['Macondo', 'Macondo', 'Macondo']"
      ]
     },
     "execution_count": 24,
     "metadata": {},
     "output_type": "execute_result"
    }
   ],
   "source": [
    "re.findall(r'Macondo',texto)"
   ]
  },
  {
   "cell_type": "code",
   "execution_count": 25,
   "id": "66786419",
   "metadata": {},
   "outputs": [
    {
     "data": {
      "text/plain": [
       "['mujer']"
      ]
     },
     "execution_count": 25,
     "metadata": {},
     "output_type": "execute_result"
    }
   ],
   "source": [
    "re.findall(r'mujer',texto)"
   ]
  },
  {
   "cell_type": "code",
   "execution_count": 27,
   "id": "8a382fae",
   "metadata": {},
   "outputs": [
    {
     "data": {
      "text/plain": [
       "['aureliano', 'Aureliano']"
      ]
     },
     "execution_count": 27,
     "metadata": {},
     "output_type": "execute_result"
    }
   ],
   "source": [
    "re.findall(r'Aureliano',texto,re.I)"
   ]
  },
  {
   "cell_type": "markdown",
   "id": "96d5a830",
   "metadata": {},
   "source": [
    "## Regex y Pandas, Filtrado de datos"
   ]
  },
  {
   "cell_type": "code",
   "execution_count": 31,
   "id": "72b813db",
   "metadata": {},
   "outputs": [
    {
     "data": {
      "text/html": [
       "<div>\n",
       "<style scoped>\n",
       "    .dataframe tbody tr th:only-of-type {\n",
       "        vertical-align: middle;\n",
       "    }\n",
       "\n",
       "    .dataframe tbody tr th {\n",
       "        vertical-align: top;\n",
       "    }\n",
       "\n",
       "    .dataframe thead th {\n",
       "        text-align: right;\n",
       "    }\n",
       "</style>\n",
       "<table border=\"1\" class=\"dataframe\">\n",
       "  <thead>\n",
       "    <tr style=\"text-align: right;\">\n",
       "      <th></th>\n",
       "      <th>nombre</th>\n",
       "      <th>Abb</th>\n",
       "      <th>Cdd</th>\n",
       "    </tr>\n",
       "    <tr>\n",
       "      <th>codigo</th>\n",
       "      <th></th>\n",
       "      <th></th>\n",
       "      <th></th>\n",
       "    </tr>\n",
       "  </thead>\n",
       "  <tbody>\n",
       "    <tr>\n",
       "      <th>co_123</th>\n",
       "      <td>Pepito Gonzales</td>\n",
       "      <td>11</td>\n",
       "      <td>12</td>\n",
       "    </tr>\n",
       "    <tr>\n",
       "      <th>pe_312</th>\n",
       "      <td>Maria Vasquez</td>\n",
       "      <td>34</td>\n",
       "      <td>54</td>\n",
       "    </tr>\n",
       "    <tr>\n",
       "      <th>mx_546</th>\n",
       "      <td>Rosa Gomez</td>\n",
       "      <td>12</td>\n",
       "      <td>67</td>\n",
       "    </tr>\n",
       "    <tr>\n",
       "      <th>mx_765</th>\n",
       "      <td>Pepito Chavez</td>\n",
       "      <td>43</td>\n",
       "      <td>32</td>\n",
       "    </tr>\n",
       "  </tbody>\n",
       "</table>\n",
       "</div>"
      ],
      "text/plain": [
       "                 nombre  Abb  Cdd\n",
       "codigo                           \n",
       "co_123  Pepito Gonzales   11   12\n",
       "pe_312    Maria Vasquez   34   54\n",
       "mx_546       Rosa Gomez   12   67\n",
       "mx_765    Pepito Chavez   43   32"
      ]
     },
     "metadata": {},
     "output_type": "display_data"
    }
   ],
   "source": [
    "dfreg=pd.DataFrame({\n",
    "    'nombre':['Pepito Gonzales','Maria Vasquez','Rosa Gomez','Pepito Chavez'],\n",
    "    'codigo':['co_123','pe_312','mx_546','mx_765'],\n",
    "    'Abb':[11,34,12,43],\n",
    "    'Cdd':[12,54,67,32]\n",
    "})\n",
    "dfreg=dfreg.set_index('codigo')\n",
    "display(dfreg)"
   ]
  },
  {
   "cell_type": "code",
   "execution_count": 32,
   "id": "e6515684",
   "metadata": {},
   "outputs": [
    {
     "data": {
      "text/html": [
       "<div>\n",
       "<style scoped>\n",
       "    .dataframe tbody tr th:only-of-type {\n",
       "        vertical-align: middle;\n",
       "    }\n",
       "\n",
       "    .dataframe tbody tr th {\n",
       "        vertical-align: top;\n",
       "    }\n",
       "\n",
       "    .dataframe thead th {\n",
       "        text-align: right;\n",
       "    }\n",
       "</style>\n",
       "<table border=\"1\" class=\"dataframe\">\n",
       "  <thead>\n",
       "    <tr style=\"text-align: right;\">\n",
       "      <th></th>\n",
       "      <th>Abb</th>\n",
       "      <th>Cdd</th>\n",
       "    </tr>\n",
       "    <tr>\n",
       "      <th>codigo</th>\n",
       "      <th></th>\n",
       "      <th></th>\n",
       "    </tr>\n",
       "  </thead>\n",
       "  <tbody>\n",
       "    <tr>\n",
       "      <th>co_123</th>\n",
       "      <td>11</td>\n",
       "      <td>12</td>\n",
       "    </tr>\n",
       "    <tr>\n",
       "      <th>pe_312</th>\n",
       "      <td>34</td>\n",
       "      <td>54</td>\n",
       "    </tr>\n",
       "    <tr>\n",
       "      <th>mx_546</th>\n",
       "      <td>12</td>\n",
       "      <td>67</td>\n",
       "    </tr>\n",
       "    <tr>\n",
       "      <th>mx_765</th>\n",
       "      <td>43</td>\n",
       "      <td>32</td>\n",
       "    </tr>\n",
       "  </tbody>\n",
       "</table>\n",
       "</div>"
      ],
      "text/plain": [
       "        Abb  Cdd\n",
       "codigo          \n",
       "co_123   11   12\n",
       "pe_312   34   54\n",
       "mx_546   12   67\n",
       "mx_765   43   32"
      ]
     },
     "execution_count": 32,
     "metadata": {},
     "output_type": "execute_result"
    }
   ],
   "source": [
    "dfreg.filter(items=['Abb','Cdd'])"
   ]
  },
  {
   "cell_type": "code",
   "execution_count": 38,
   "id": "6b7777ae",
   "metadata": {},
   "outputs": [
    {
     "data": {
      "text/html": [
       "<div>\n",
       "<style scoped>\n",
       "    .dataframe tbody tr th:only-of-type {\n",
       "        vertical-align: middle;\n",
       "    }\n",
       "\n",
       "    .dataframe tbody tr th {\n",
       "        vertical-align: top;\n",
       "    }\n",
       "\n",
       "    .dataframe thead th {\n",
       "        text-align: right;\n",
       "    }\n",
       "</style>\n",
       "<table border=\"1\" class=\"dataframe\">\n",
       "  <thead>\n",
       "    <tr style=\"text-align: right;\">\n",
       "      <th></th>\n",
       "    </tr>\n",
       "    <tr>\n",
       "      <th>codigo</th>\n",
       "    </tr>\n",
       "  </thead>\n",
       "  <tbody>\n",
       "    <tr>\n",
       "      <th>co_123</th>\n",
       "    </tr>\n",
       "    <tr>\n",
       "      <th>pe_312</th>\n",
       "    </tr>\n",
       "    <tr>\n",
       "      <th>mx_546</th>\n",
       "    </tr>\n",
       "    <tr>\n",
       "      <th>mx_765</th>\n",
       "    </tr>\n",
       "  </tbody>\n",
       "</table>\n",
       "</div>"
      ],
      "text/plain": [
       "Empty DataFrame\n",
       "Columns: []\n",
       "Index: [co_123, pe_312, mx_546, mx_765]"
      ]
     },
     "execution_count": 38,
     "metadata": {},
     "output_type": "execute_result"
    }
   ],
   "source": [
    "dfreg.filter(like='pe')"
   ]
  },
  {
   "cell_type": "code",
   "execution_count": 36,
   "id": "47a2793c",
   "metadata": {},
   "outputs": [
    {
     "data": {
      "text/html": [
       "<div>\n",
       "<style scoped>\n",
       "    .dataframe tbody tr th:only-of-type {\n",
       "        vertical-align: middle;\n",
       "    }\n",
       "\n",
       "    .dataframe tbody tr th {\n",
       "        vertical-align: top;\n",
       "    }\n",
       "\n",
       "    .dataframe thead th {\n",
       "        text-align: right;\n",
       "    }\n",
       "</style>\n",
       "<table border=\"1\" class=\"dataframe\">\n",
       "  <thead>\n",
       "    <tr style=\"text-align: right;\">\n",
       "      <th></th>\n",
       "      <th>nombre</th>\n",
       "      <th>Abb</th>\n",
       "      <th>Cdd</th>\n",
       "    </tr>\n",
       "    <tr>\n",
       "      <th>codigo</th>\n",
       "      <th></th>\n",
       "      <th></th>\n",
       "      <th></th>\n",
       "    </tr>\n",
       "  </thead>\n",
       "  <tbody>\n",
       "    <tr>\n",
       "      <th>co_123</th>\n",
       "      <td>Pepito Gonzales</td>\n",
       "      <td>11</td>\n",
       "      <td>12</td>\n",
       "    </tr>\n",
       "    <tr>\n",
       "      <th>pe_312</th>\n",
       "      <td>Maria Vasquez</td>\n",
       "      <td>34</td>\n",
       "      <td>54</td>\n",
       "    </tr>\n",
       "  </tbody>\n",
       "</table>\n",
       "</div>"
      ],
      "text/plain": [
       "                 nombre  Abb  Cdd\n",
       "codigo                           \n",
       "co_123  Pepito Gonzales   11   12\n",
       "pe_312    Maria Vasquez   34   54"
      ]
     },
     "execution_count": 36,
     "metadata": {},
     "output_type": "execute_result"
    }
   ],
   "source": [
    "dfreg.filter(like='12',axis=0) #con axis=0 se filtra por filas para ser más exactos"
   ]
  },
  {
   "cell_type": "code",
   "execution_count": 39,
   "id": "6a55840f",
   "metadata": {},
   "outputs": [
    {
     "data": {
      "text/html": [
       "<div>\n",
       "<style scoped>\n",
       "    .dataframe tbody tr th:only-of-type {\n",
       "        vertical-align: middle;\n",
       "    }\n",
       "\n",
       "    .dataframe tbody tr th {\n",
       "        vertical-align: top;\n",
       "    }\n",
       "\n",
       "    .dataframe thead th {\n",
       "        text-align: right;\n",
       "    }\n",
       "</style>\n",
       "<table border=\"1\" class=\"dataframe\">\n",
       "  <thead>\n",
       "    <tr style=\"text-align: right;\">\n",
       "      <th></th>\n",
       "      <th>nombre</th>\n",
       "      <th>Abb</th>\n",
       "      <th>Cdd</th>\n",
       "    </tr>\n",
       "    <tr>\n",
       "      <th>codigo</th>\n",
       "      <th></th>\n",
       "      <th></th>\n",
       "      <th></th>\n",
       "    </tr>\n",
       "  </thead>\n",
       "  <tbody>\n",
       "    <tr>\n",
       "      <th>co_123</th>\n",
       "      <td>Pepito Gonzales</td>\n",
       "      <td>11</td>\n",
       "      <td>12</td>\n",
       "    </tr>\n",
       "  </tbody>\n",
       "</table>\n",
       "</div>"
      ],
      "text/plain": [
       "                 nombre  Abb  Cdd\n",
       "codigo                           \n",
       "co_123  Pepito Gonzales   11   12"
      ]
     },
     "execution_count": 39,
     "metadata": {},
     "output_type": "execute_result"
    }
   ],
   "source": [
    "dfreg.filter(like='co',axis=0)"
   ]
  },
  {
   "cell_type": "code",
   "execution_count": 44,
   "id": "3aab12f8",
   "metadata": {},
   "outputs": [
    {
     "data": {
      "text/html": [
       "<div>\n",
       "<style scoped>\n",
       "    .dataframe tbody tr th:only-of-type {\n",
       "        vertical-align: middle;\n",
       "    }\n",
       "\n",
       "    .dataframe tbody tr th {\n",
       "        vertical-align: top;\n",
       "    }\n",
       "\n",
       "    .dataframe thead th {\n",
       "        text-align: right;\n",
       "    }\n",
       "</style>\n",
       "<table border=\"1\" class=\"dataframe\">\n",
       "  <thead>\n",
       "    <tr style=\"text-align: right;\">\n",
       "      <th></th>\n",
       "      <th>nombre</th>\n",
       "      <th>Abb</th>\n",
       "      <th>Cdd</th>\n",
       "    </tr>\n",
       "    <tr>\n",
       "      <th>codigo</th>\n",
       "      <th></th>\n",
       "      <th></th>\n",
       "      <th></th>\n",
       "    </tr>\n",
       "  </thead>\n",
       "  <tbody>\n",
       "    <tr>\n",
       "      <th>co_123</th>\n",
       "      <td>Pepito Gonzales</td>\n",
       "      <td>11</td>\n",
       "      <td>12</td>\n",
       "    </tr>\n",
       "    <tr>\n",
       "      <th>pe_312</th>\n",
       "      <td>Maria Vasquez</td>\n",
       "      <td>34</td>\n",
       "      <td>54</td>\n",
       "    </tr>\n",
       "  </tbody>\n",
       "</table>\n",
       "</div>"
      ],
      "text/plain": [
       "                 nombre  Abb  Cdd\n",
       "codigo                           \n",
       "co_123  Pepito Gonzales   11   12\n",
       "pe_312    Maria Vasquez   34   54"
      ]
     },
     "execution_count": 44,
     "metadata": {},
     "output_type": "execute_result"
    }
   ],
   "source": [
    "dfreg.filter(regex='\\w{2}_[1-3]{3}',axis=0)"
   ]
  },
  {
   "cell_type": "code",
   "execution_count": 46,
   "id": "4627ff90",
   "metadata": {},
   "outputs": [
    {
     "data": {
      "text/html": [
       "<div>\n",
       "<style scoped>\n",
       "    .dataframe tbody tr th:only-of-type {\n",
       "        vertical-align: middle;\n",
       "    }\n",
       "\n",
       "    .dataframe tbody tr th {\n",
       "        vertical-align: top;\n",
       "    }\n",
       "\n",
       "    .dataframe thead th {\n",
       "        text-align: right;\n",
       "    }\n",
       "</style>\n",
       "<table border=\"1\" class=\"dataframe\">\n",
       "  <thead>\n",
       "    <tr style=\"text-align: right;\">\n",
       "      <th></th>\n",
       "      <th>nombre</th>\n",
       "      <th>Abb</th>\n",
       "      <th>Cdd</th>\n",
       "    </tr>\n",
       "    <tr>\n",
       "      <th>codigo</th>\n",
       "      <th></th>\n",
       "      <th></th>\n",
       "      <th></th>\n",
       "    </tr>\n",
       "  </thead>\n",
       "  <tbody>\n",
       "    <tr>\n",
       "      <th>mx_546</th>\n",
       "      <td>Rosa Gomez</td>\n",
       "      <td>12</td>\n",
       "      <td>67</td>\n",
       "    </tr>\n",
       "    <tr>\n",
       "      <th>mx_765</th>\n",
       "      <td>Pepito Chavez</td>\n",
       "      <td>43</td>\n",
       "      <td>32</td>\n",
       "    </tr>\n",
       "  </tbody>\n",
       "</table>\n",
       "</div>"
      ],
      "text/plain": [
       "               nombre  Abb  Cdd\n",
       "codigo                         \n",
       "mx_546     Rosa Gomez   12   67\n",
       "mx_765  Pepito Chavez   43   32"
      ]
     },
     "execution_count": 46,
     "metadata": {},
     "output_type": "execute_result"
    }
   ],
   "source": [
    "dfreg.filter(regex='\\w{2}_[4-9]{3}',axis=0)"
   ]
  },
  {
   "cell_type": "markdown",
   "id": "f309aab1",
   "metadata": {},
   "source": [
    "## Ejemplo: Analizando un archivo de texto\n",
    "\n",
    "En el archivo configuraciones txt se proporcionan un conjunto de datos en texto plano, donde se muestra la información de una determinada configuración de servidores. Extraer la información de los ip vrf, en una tabla(DataFrame)"
   ]
  },
  {
   "cell_type": "code",
   "execution_count": 2,
   "id": "a02708e1",
   "metadata": {},
   "outputs": [],
   "source": [
    "doc=open('datasets/configuraciones.txt','r')\n",
    "texto=doc.read()\n",
    "doc.close()"
   ]
  },
  {
   "cell_type": "code",
   "execution_count": 48,
   "id": "d37bbff2",
   "metadata": {},
   "outputs": [
    {
     "name": "stdout",
     "output_type": "stream",
     "text": [
      "show running^M\n",
      "Building configuration...^M\n",
      "^M\n",
      "Current configuration : 166931 bytes^M\n",
      "!^M\n",
      "! Last configuration change at 17:30:29 Co Thu Jul 19 2012 by esalgado^M\n",
      "! NVRAM config last updated at 23:41:23 Co Sun Jul 22 2012^M\n",
      "!^M\n",
      "version 12.2^M\n",
      "no service pad^M\n",
      "service timestamps debug datetime msec localtime^M\n",
      "service timestamps log datetime msec localtime^M\n",
      "service password-encryption^M\n",
      "service compress-config^M\n",
      "!^M\n",
      "hostname villavicencio^M\n",
      "\n",
      "ip vrf AvalBogAVV^M\n",
      " rd 100:16003^M\n",
      " export map ARCOM-AVAL^M\n",
      " route-target export 100:16003^M\n",
      " route-target import 100:16003^M\n",
      " route-target import 14080:2000^M\n",
      " route-target import 14080:27300^M\n",
      "!^M\n",
      "ip vrf AvalBogBBOCis^M\n",
      " rd 100:16001^M\n",
      " export map ARCOM-AVAL^M\n",
      " route-target export 100:16001^M\n",
      " route-target export 100:830^M\n",
      " route-target import 100:16001^M\n",
      " route-target import 100:830^M\n",
      " route-target import 14080:27300^M\n",
      "!^M\n",
      "ip vrf AvalBogBOC^M\n",
      " rd 100:16005^M\n",
      " export map ARCOM-BOC^M\n",
      " route-target export 100:16005^M\n",
      " route-target import 100:16005^M\n",
      " route-target import 14080:300400^M\n",
      "!^M\n",
      "ip vrf AvalBogBPO^M\n",
      " rd 100:16004^M\n",
      " export map ARCOM-AVAL^M\n",
      " route-target export 100:16004^M\n",
      " route-target import 100:16004^M\n",
      " route-target import 14080:27300^M\n",
      "!^M\n"
     ]
    }
   ],
   "source": [
    "print(texto)"
   ]
  },
  {
   "cell_type": "code",
   "execution_count": 7,
   "id": "825873ed",
   "metadata": {},
   "outputs": [
    {
     "data": {
      "text/plain": [
       "['ip vrf AvalBogAVV^M',\n",
       " 'ip vrf AvalBogBBOCis^M',\n",
       " 'ip vrf AvalBogBOC^M',\n",
       " 'ip vrf AvalBogBPO^M']"
      ]
     },
     "execution_count": 7,
     "metadata": {},
     "output_type": "execute_result"
    }
   ],
   "source": [
    "vrfs=re.findall(r'(ip\\svrf\\sAval\\w+\\^M)',texto)\n",
    "vrfs"
   ]
  },
  {
   "cell_type": "code",
   "execution_count": 51,
   "id": "1d9de92e",
   "metadata": {},
   "outputs": [
    {
     "data": {
      "text/plain": [
       "[('rd', '100:16003'),\n",
       " ('rd', '100:16001'),\n",
       " ('rd', '100:16005'),\n",
       " ('rd', '100:16004')]"
      ]
     },
     "execution_count": 51,
     "metadata": {},
     "output_type": "execute_result"
    }
   ],
   "source": [
    "re.findall(r'(rd)\\s(\\d+:\\d+)',texto)"
   ]
  },
  {
   "cell_type": "code",
   "execution_count": 52,
   "id": "24c69f76",
   "metadata": {},
   "outputs": [
    {
     "data": {
      "text/plain": [
       "[('M\\nservice', 'password-encryption'),\n",
       " ('M\\nservice', 'compress-config'),\n",
       " ('export map', 'ARCOM-AVAL'),\n",
       " ('export map', 'ARCOM-AVAL'),\n",
       " ('export map', 'ARCOM-BOC'),\n",
       " ('export map', 'ARCOM-AVAL')]"
      ]
     },
     "execution_count": 52,
     "metadata": {},
     "output_type": "execute_result"
    }
   ],
   "source": [
    "re.findall(r'(\\w+\\s\\w+)\\s(\\w+-\\w+)',texto)"
   ]
  },
  {
   "cell_type": "code",
   "execution_count": 3,
   "id": "b23f86cd",
   "metadata": {},
   "outputs": [
    {
     "data": {
      "text/plain": [
       "[('export', '100:16003'),\n",
       " ('export', '100:16001'),\n",
       " ('export', '100:830'),\n",
       " ('export', '100:16005'),\n",
       " ('export', '100:16004')]"
      ]
     },
     "execution_count": 3,
     "metadata": {},
     "output_type": "execute_result"
    }
   ],
   "source": [
    "re.findall(r'(export)\\s(\\d+:\\d+)',texto)"
   ]
  },
  {
   "cell_type": "code",
   "execution_count": 4,
   "id": "fc508092",
   "metadata": {},
   "outputs": [
    {
     "data": {
      "text/plain": [
       "[('import', '100:16003'),\n",
       " ('import', '14080:2000'),\n",
       " ('import', '14080:27300'),\n",
       " ('import', '100:16001'),\n",
       " ('import', '100:830'),\n",
       " ('import', '14080:27300'),\n",
       " ('import', '100:16005'),\n",
       " ('import', '14080:300400'),\n",
       " ('import', '100:16004'),\n",
       " ('import', '14080:27300')]"
      ]
     },
     "execution_count": 4,
     "metadata": {},
     "output_type": "execute_result"
    }
   ],
   "source": [
    "re.findall(r'(import)\\s(\\d+:\\d+)',texto)"
   ]
  },
  {
   "cell_type": "code",
   "execution_count": 5,
   "id": "d6530e52",
   "metadata": {},
   "outputs": [
    {
     "data": {
      "text/plain": [
       "<re.Match object; span=(445, 464), match='ip vrf AvalBogAVV^M'>"
      ]
     },
     "execution_count": 5,
     "metadata": {},
     "output_type": "execute_result"
    }
   ],
   "source": [
    "re.search(re.escape('ip vrf AvalBogAVV^M'),texto)"
   ]
  },
  {
   "cell_type": "code",
   "execution_count": 9,
   "id": "fd145ddc",
   "metadata": {},
   "outputs": [
    {
     "name": "stdout",
     "output_type": "stream",
     "text": [
      "[464, 667, 895, 1061]\n"
     ]
    }
   ],
   "source": [
    "posiciones=[re.search(re.escape(vrf),texto).span()[1] for vrf in vrfs]\n",
    "print(posiciones)"
   ]
  },
  {
   "cell_type": "code",
   "execution_count": 11,
   "id": "18f46823",
   "metadata": {},
   "outputs": [
    {
     "data": {
      "text/html": [
       "<div>\n",
       "<style scoped>\n",
       "    .dataframe tbody tr th:only-of-type {\n",
       "        vertical-align: middle;\n",
       "    }\n",
       "\n",
       "    .dataframe tbody tr th {\n",
       "        vertical-align: top;\n",
       "    }\n",
       "\n",
       "    .dataframe thead th {\n",
       "        text-align: right;\n",
       "    }\n",
       "</style>\n",
       "<table border=\"1\" class=\"dataframe\">\n",
       "  <thead>\n",
       "    <tr style=\"text-align: right;\">\n",
       "      <th></th>\n",
       "      <th>ipvrf</th>\n",
       "      <th>valor</th>\n",
       "      <th>descripcion</th>\n",
       "    </tr>\n",
       "  </thead>\n",
       "  <tbody>\n",
       "    <tr>\n",
       "      <th>0</th>\n",
       "      <td>AvalBogAVV</td>\n",
       "      <td>100:16003</td>\n",
       "      <td>route-target export</td>\n",
       "    </tr>\n",
       "    <tr>\n",
       "      <th>1</th>\n",
       "      <td>AvalBogAVV</td>\n",
       "      <td>100:16003</td>\n",
       "      <td>route-target import</td>\n",
       "    </tr>\n",
       "    <tr>\n",
       "      <th>2</th>\n",
       "      <td>AvalBogAVV</td>\n",
       "      <td>14080:2000</td>\n",
       "      <td>route-target import</td>\n",
       "    </tr>\n",
       "    <tr>\n",
       "      <th>3</th>\n",
       "      <td>AvalBogAVV</td>\n",
       "      <td>14080:27300</td>\n",
       "      <td>route-target import</td>\n",
       "    </tr>\n",
       "    <tr>\n",
       "      <th>4</th>\n",
       "      <td>AvalBogAVV</td>\n",
       "      <td>100:16003</td>\n",
       "      <td>rd</td>\n",
       "    </tr>\n",
       "    <tr>\n",
       "      <th>5</th>\n",
       "      <td>AvalBogAVV</td>\n",
       "      <td>ARCOM-AVAL</td>\n",
       "      <td>export map</td>\n",
       "    </tr>\n",
       "    <tr>\n",
       "      <th>6</th>\n",
       "      <td>AvalBogBBOCis</td>\n",
       "      <td>100:16001</td>\n",
       "      <td>route-target export</td>\n",
       "    </tr>\n",
       "    <tr>\n",
       "      <th>7</th>\n",
       "      <td>AvalBogBBOCis</td>\n",
       "      <td>100:830</td>\n",
       "      <td>route-target export</td>\n",
       "    </tr>\n",
       "    <tr>\n",
       "      <th>8</th>\n",
       "      <td>AvalBogBBOCis</td>\n",
       "      <td>100:16001</td>\n",
       "      <td>route-target import</td>\n",
       "    </tr>\n",
       "    <tr>\n",
       "      <th>9</th>\n",
       "      <td>AvalBogBBOCis</td>\n",
       "      <td>100:830</td>\n",
       "      <td>route-target import</td>\n",
       "    </tr>\n",
       "    <tr>\n",
       "      <th>10</th>\n",
       "      <td>AvalBogBBOCis</td>\n",
       "      <td>14080:27300</td>\n",
       "      <td>route-target import</td>\n",
       "    </tr>\n",
       "    <tr>\n",
       "      <th>11</th>\n",
       "      <td>AvalBogBBOCis</td>\n",
       "      <td>100:16001</td>\n",
       "      <td>rd</td>\n",
       "    </tr>\n",
       "    <tr>\n",
       "      <th>12</th>\n",
       "      <td>AvalBogBBOCis</td>\n",
       "      <td>ARCOM-AVAL</td>\n",
       "      <td>export map</td>\n",
       "    </tr>\n",
       "    <tr>\n",
       "      <th>13</th>\n",
       "      <td>AvalBogBOC</td>\n",
       "      <td>100:16005</td>\n",
       "      <td>route-target export</td>\n",
       "    </tr>\n",
       "    <tr>\n",
       "      <th>14</th>\n",
       "      <td>AvalBogBOC</td>\n",
       "      <td>100:16005</td>\n",
       "      <td>route-target import</td>\n",
       "    </tr>\n",
       "    <tr>\n",
       "      <th>15</th>\n",
       "      <td>AvalBogBOC</td>\n",
       "      <td>14080:300400</td>\n",
       "      <td>route-target import</td>\n",
       "    </tr>\n",
       "    <tr>\n",
       "      <th>16</th>\n",
       "      <td>AvalBogBOC</td>\n",
       "      <td>100:16005</td>\n",
       "      <td>rd</td>\n",
       "    </tr>\n",
       "    <tr>\n",
       "      <th>17</th>\n",
       "      <td>AvalBogBOC</td>\n",
       "      <td>ARCOM-BOC</td>\n",
       "      <td>export map</td>\n",
       "    </tr>\n",
       "  </tbody>\n",
       "</table>\n",
       "</div>"
      ],
      "text/plain": [
       "            ipvrf         valor          descripcion\n",
       "0      AvalBogAVV     100:16003  route-target export\n",
       "1      AvalBogAVV     100:16003  route-target import\n",
       "2      AvalBogAVV    14080:2000  route-target import\n",
       "3      AvalBogAVV   14080:27300  route-target import\n",
       "4      AvalBogAVV     100:16003                   rd\n",
       "5      AvalBogAVV    ARCOM-AVAL           export map\n",
       "6   AvalBogBBOCis     100:16001  route-target export\n",
       "7   AvalBogBBOCis       100:830  route-target export\n",
       "8   AvalBogBBOCis     100:16001  route-target import\n",
       "9   AvalBogBBOCis       100:830  route-target import\n",
       "10  AvalBogBBOCis   14080:27300  route-target import\n",
       "11  AvalBogBBOCis     100:16001                   rd\n",
       "12  AvalBogBBOCis    ARCOM-AVAL           export map\n",
       "13     AvalBogBOC     100:16005  route-target export\n",
       "14     AvalBogBOC     100:16005  route-target import\n",
       "15     AvalBogBOC  14080:300400  route-target import\n",
       "16     AvalBogBOC     100:16005                   rd\n",
       "17     AvalBogBOC     ARCOM-BOC           export map"
      ]
     },
     "metadata": {},
     "output_type": "display_data"
    }
   ],
   "source": [
    "patrones=[(r'(export)\\s(\\d+:\\d+)','route-target export'),\n",
    "          (r'(import)\\s(\\d+:\\d+)','route-target import'),\n",
    "          (r'(rd)\\s(\\d+:\\d+)','rd'),\n",
    "          (r'(\\w+\\s\\w+)\\s(\\w+-\\w+)','export map')]\n",
    "\n",
    "resultado=[]\n",
    "for k in range(len(posiciones)-1):\n",
    "    subtexto=texto[posiciones[k]:posiciones[k+1]]\n",
    "    for patron in patrones:\n",
    "        for ip in re.findall(patron[0],subtexto):\n",
    "            resultado.append([vrfs[k][7:-2],ip[1],patron[1]])\n",
    "df=pd.DataFrame(resultado,columns=['ipvrf','valor','descripcion'])\n",
    "display(df)"
   ]
  },
  {
   "cell_type": "code",
   "execution_count": 14,
   "id": "a756d2a5",
   "metadata": {},
   "outputs": [
    {
     "data": {
      "text/html": [
       "<div>\n",
       "<style scoped>\n",
       "    .dataframe tbody tr th:only-of-type {\n",
       "        vertical-align: middle;\n",
       "    }\n",
       "\n",
       "    .dataframe tbody tr th {\n",
       "        vertical-align: top;\n",
       "    }\n",
       "\n",
       "    .dataframe thead th {\n",
       "        text-align: right;\n",
       "    }\n",
       "</style>\n",
       "<table border=\"1\" class=\"dataframe\">\n",
       "  <thead>\n",
       "    <tr style=\"text-align: right;\">\n",
       "      <th></th>\n",
       "      <th>ipvrf</th>\n",
       "      <th>valor</th>\n",
       "      <th>descripcion</th>\n",
       "    </tr>\n",
       "  </thead>\n",
       "  <tbody>\n",
       "    <tr>\n",
       "      <th>1</th>\n",
       "      <td>AvalBogAVV</td>\n",
       "      <td>100:16003</td>\n",
       "      <td>route-target import</td>\n",
       "    </tr>\n",
       "    <tr>\n",
       "      <th>2</th>\n",
       "      <td>AvalBogAVV</td>\n",
       "      <td>14080:2000</td>\n",
       "      <td>route-target import</td>\n",
       "    </tr>\n",
       "    <tr>\n",
       "      <th>3</th>\n",
       "      <td>AvalBogAVV</td>\n",
       "      <td>14080:27300</td>\n",
       "      <td>route-target import</td>\n",
       "    </tr>\n",
       "  </tbody>\n",
       "</table>\n",
       "</div>"
      ],
      "text/plain": [
       "        ipvrf        valor          descripcion\n",
       "1  AvalBogAVV    100:16003  route-target import\n",
       "2  AvalBogAVV   14080:2000  route-target import\n",
       "3  AvalBogAVV  14080:27300  route-target import"
      ]
     },
     "metadata": {},
     "output_type": "display_data"
    }
   ],
   "source": [
    "display(df[(df['ipvrf']=='AvalBogAVV')&(df['descripcion']=='route-target import')])"
   ]
  },
  {
   "cell_type": "code",
   "execution_count": null,
   "id": "ec8b7c25",
   "metadata": {},
   "outputs": [],
   "source": []
  }
 ],
 "metadata": {
  "kernelspec": {
   "display_name": "Python 3",
   "language": "python",
   "name": "python3"
  },
  "language_info": {
   "codemirror_mode": {
    "name": "ipython",
    "version": 3
   },
   "file_extension": ".py",
   "mimetype": "text/x-python",
   "name": "python",
   "nbconvert_exporter": "python",
   "pygments_lexer": "ipython3",
   "version": "3.8.8"
  }
 },
 "nbformat": 4,
 "nbformat_minor": 5
}
