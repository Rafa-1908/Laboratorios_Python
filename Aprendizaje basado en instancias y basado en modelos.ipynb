{
 "cells": [
  {
   "cell_type": "markdown",
   "id": "b27ae1ec-7e36-49df-bbeb-23be86994594",
   "metadata": {},
   "source": [
    "# Regresión lineal\n",
    "## Ejemplo 1: Predecir el precio de una casa basado en su tamaño(superficie en metros cuadrados)"
   ]
  },
  {
   "cell_type": "code",
   "execution_count": 1,
   "id": "10fa9829-d262-4e1a-b92b-2b08bad0d5f9",
   "metadata": {},
   "outputs": [
    {
     "name": "stdout",
     "output_type": "stream",
     "text": [
      "1.26.1\n"
     ]
    }
   ],
   "source": [
    "# Verificamos si esta instalado el numpy\n",
    "import numpy as np\n",
    "print(np.__version__)"
   ]
  },
  {
   "cell_type": "code",
   "execution_count": 5,
   "id": "39091af8-f1fd-495a-9275-5358e44d6b9e",
   "metadata": {},
   "outputs": [
    {
     "name": "stdout",
     "output_type": "stream",
     "text": [
      "Collecting numpy\n",
      "  Downloading numpy-1.24.4-cp38-cp38-win_amd64.whl.metadata (5.6 kB)\n",
      "Downloading numpy-1.24.4-cp38-cp38-win_amd64.whl (14.9 MB)\n",
      "   ---------------------------------------- 0.0/14.9 MB ? eta -:--:--\n",
      "   ---------------------------------------- 0.0/14.9 MB ? eta -:--:--\n",
      "   ---------------------------------------- 0.0/14.9 MB 262.6 kB/s eta 0:00:57\n",
      "   ---------------------------------------- 0.1/14.9 MB 655.4 kB/s eta 0:00:23\n",
      "   --------- ------------------------------ 3.6/14.9 MB 19.3 MB/s eta 0:00:01\n",
      "   ----------------------- ---------------- 8.7/14.9 MB 34.9 MB/s eta 0:00:01\n",
      "   ------------------------------------ --- 13.6/14.9 MB 81.8 MB/s eta 0:00:01\n",
      "   ---------------------------------------  14.9/14.9 MB 72.6 MB/s eta 0:00:01\n",
      "   ---------------------------------------- 14.9/14.9 MB 50.4 MB/s eta 0:00:00\n",
      "Installing collected packages: numpy\n",
      "Successfully installed numpy-1.24.4\n"
     ]
    }
   ],
   "source": [
    "!pip install numpy"
   ]
  },
  {
   "cell_type": "code",
   "execution_count": 2,
   "id": "808729f4-99b8-4ae0-8207-3d2b51a64e9d",
   "metadata": {},
   "outputs": [
    {
     "name": "stdout",
     "output_type": "stream",
     "text": [
      "1.26.1\n"
     ]
    }
   ],
   "source": [
    "#Verificamos si esta instalado el pandas\n",
    "import pandas as pd\n",
    "print(np.__version__)"
   ]
  },
  {
   "cell_type": "code",
   "execution_count": 6,
   "id": "50f73745-0e43-44ae-b084-5897454ddd6b",
   "metadata": {},
   "outputs": [
    {
     "name": "stdout",
     "output_type": "stream",
     "text": [
      "Collecting pandas\n",
      "  Downloading pandas-2.0.3-cp38-cp38-win_amd64.whl.metadata (18 kB)\n",
      "Requirement already satisfied: python-dateutil>=2.8.2 in c:\\users\\rafa_\\anaconda3\\envs\\fundamentos_ia\\lib\\site-packages (from pandas) (2.8.2)\n",
      "Requirement already satisfied: pytz>=2020.1 in c:\\users\\rafa_\\anaconda3\\envs\\fundamentos_ia\\lib\\site-packages (from pandas) (2024.1)\n",
      "Collecting tzdata>=2022.1 (from pandas)\n",
      "  Downloading tzdata-2024.1-py2.py3-none-any.whl.metadata (1.4 kB)\n",
      "Requirement already satisfied: numpy>=1.20.3 in c:\\users\\rafa_\\anaconda3\\envs\\fundamentos_ia\\lib\\site-packages (from pandas) (1.24.4)\n",
      "Requirement already satisfied: six>=1.5 in c:\\users\\rafa_\\anaconda3\\envs\\fundamentos_ia\\lib\\site-packages (from python-dateutil>=2.8.2->pandas) (1.16.0)\n",
      "Downloading pandas-2.0.3-cp38-cp38-win_amd64.whl (10.8 MB)\n",
      "   ---------------------------------------- 0.0/10.8 MB ? eta -:--:--\n",
      "   ---------------------------------------- 0.0/10.8 MB 660.6 kB/s eta 0:00:17\n",
      "   ---- ----------------------------------- 1.1/10.8 MB 12.1 MB/s eta 0:00:01\n",
      "   ------------ --------------------------- 3.5/10.8 MB 24.9 MB/s eta 0:00:01\n",
      "   ---------------------------- ----------- 7.6/10.8 MB 40.8 MB/s eta 0:00:01\n",
      "   ---------------------------------------  10.8/10.8 MB 73.1 MB/s eta 0:00:01\n",
      "   ---------------------------------------  10.8/10.8 MB 73.1 MB/s eta 0:00:01\n",
      "   ---------------------------------------- 10.8/10.8 MB 43.7 MB/s eta 0:00:00\n",
      "Downloading tzdata-2024.1-py2.py3-none-any.whl (345 kB)\n",
      "   ---------------------------------------- 0.0/345.4 kB ? eta -:--:--\n",
      "   --------------------------------------- 345.4/345.4 kB 22.3 MB/s eta 0:00:00\n",
      "Installing collected packages: tzdata, pandas\n",
      "Successfully installed pandas-2.0.3 tzdata-2024.1\n"
     ]
    }
   ],
   "source": [
    "!pip install pandas"
   ]
  },
  {
   "cell_type": "code",
   "execution_count": 8,
   "id": "e4540c69-fe7d-4fdd-977a-16c96d4d31fd",
   "metadata": {},
   "outputs": [
    {
     "name": "stdout",
     "output_type": "stream",
     "text": [
      "Collecting scikit-learn\n",
      "  Downloading scikit_learn-1.3.2-cp38-cp38-win_amd64.whl.metadata (11 kB)\n",
      "Requirement already satisfied: numpy<2.0,>=1.17.3 in c:\\users\\rafa_\\anaconda3\\envs\\fundamentos_ia\\lib\\site-packages (from scikit-learn) (1.24.4)\n",
      "Collecting scipy>=1.5.0 (from scikit-learn)\n",
      "  Downloading scipy-1.10.1-cp38-cp38-win_amd64.whl.metadata (58 kB)\n",
      "     ---------------------------------------- 0.0/59.0 kB ? eta -:--:--\n",
      "     ------ --------------------------------- 10.2/59.0 kB ? eta -:--:--\n",
      "     ------ --------------------------------- 10.2/59.0 kB ? eta -:--:--\n",
      "     -------------------------- ----------- 41.0/59.0 kB 326.8 kB/s eta 0:00:01\n",
      "     -------------------------------------- 59.0/59.0 kB 389.9 kB/s eta 0:00:00\n",
      "Collecting joblib>=1.1.1 (from scikit-learn)\n",
      "  Downloading joblib-1.4.2-py3-none-any.whl.metadata (5.4 kB)\n",
      "Collecting threadpoolctl>=2.0.0 (from scikit-learn)\n",
      "  Downloading threadpoolctl-3.5.0-py3-none-any.whl.metadata (13 kB)\n",
      "Downloading scikit_learn-1.3.2-cp38-cp38-win_amd64.whl (9.3 MB)\n",
      "   ---------------------------------------- 0.0/9.3 MB ? eta -:--:--\n",
      "   ------------ --------------------------- 2.9/9.3 MB 61.0 MB/s eta 0:00:01\n",
      "   -------------------------------- ------- 7.5/9.3 MB 79.3 MB/s eta 0:00:01\n",
      "   ---------------------------------------  9.3/9.3 MB 84.8 MB/s eta 0:00:01\n",
      "   ---------------------------------------- 9.3/9.3 MB 53.8 MB/s eta 0:00:00\n",
      "Downloading joblib-1.4.2-py3-none-any.whl (301 kB)\n",
      "   ---------------------------------------- 0.0/301.8 kB ? eta -:--:--\n",
      "   --------------------------------------- 301.8/301.8 kB 18.2 MB/s eta 0:00:00\n",
      "Downloading scipy-1.10.1-cp38-cp38-win_amd64.whl (42.2 MB)\n",
      "   ---------------------------------------- 0.0/42.2 MB ? eta -:--:--\n",
      "   --- ------------------------------------ 3.9/42.2 MB 81.9 MB/s eta 0:00:01\n",
      "   ------- -------------------------------- 8.2/42.2 MB 87.5 MB/s eta 0:00:01\n",
      "   ---------- ----------------------------- 10.7/42.2 MB 108.8 MB/s eta 0:00:01\n",
      "   ---------- ----------------------------- 10.7/42.2 MB 72.6 MB/s eta 0:00:01\n",
      "   ---------- ----------------------------- 10.8/42.2 MB 50.4 MB/s eta 0:00:01\n",
      "   ---------- ----------------------------- 11.0/42.2 MB 40.9 MB/s eta 0:00:01\n",
      "   ---------- ----------------------------- 11.2/42.2 MB 34.4 MB/s eta 0:00:01\n",
      "   ---------- ----------------------------- 11.5/42.2 MB 29.7 MB/s eta 0:00:02\n",
      "   ------------- -------------------------- 14.0/42.2 MB 27.3 MB/s eta 0:00:02\n",
      "   ---------------- ----------------------- 17.7/42.2 MB 27.3 MB/s eta 0:00:01\n",
      "   -------------------- ------------------- 21.2/42.2 MB 43.7 MB/s eta 0:00:01\n",
      "   ----------------------- ---------------- 25.0/42.2 MB 81.8 MB/s eta 0:00:01\n",
      "   --------------------------- ------------ 28.6/42.2 MB 72.6 MB/s eta 0:00:01\n",
      "   ------------------------------- -------- 33.0/42.2 MB 81.8 MB/s eta 0:00:01\n",
      "   ---------------------------------- ----- 36.2/42.2 MB 65.6 MB/s eta 0:00:01\n",
      "   ---------------------------------------  41.8/42.2 MB 81.8 MB/s eta 0:00:01\n",
      "   ---------------------------------------  42.2/42.2 MB 81.8 MB/s eta 0:00:01\n",
      "   ---------------------------------------  42.2/42.2 MB 81.8 MB/s eta 0:00:01\n",
      "   ---------------------------------------  42.2/42.2 MB 81.8 MB/s eta 0:00:01\n",
      "   ---------------------------------------- 42.2/42.2 MB 34.4 MB/s eta 0:00:00\n",
      "Downloading threadpoolctl-3.5.0-py3-none-any.whl (18 kB)\n",
      "Installing collected packages: threadpoolctl, scipy, joblib, scikit-learn\n",
      "Successfully installed joblib-1.4.2 scikit-learn-1.3.2 scipy-1.10.1 threadpoolctl-3.5.0\n"
     ]
    }
   ],
   "source": [
    "#Instalamos el scikit-learn\n",
    "!pip install scikit-learn"
   ]
  },
  {
   "cell_type": "code",
   "execution_count": 9,
   "id": "e4adea96-005c-474d-90dd-9a0873b3931e",
   "metadata": {},
   "outputs": [
    {
     "name": "stdout",
     "output_type": "stream",
     "text": [
      "1.3.2\n"
     ]
    }
   ],
   "source": [
    "# Verificamos si esta instalado el scikit-learn\n",
    "import sklearn\n",
    "print(sklearn.__version__)"
   ]
  },
  {
   "cell_type": "code",
   "execution_count": 15,
   "id": "27182225-c505-4632-a4ca-cb6d23924618",
   "metadata": {},
   "outputs": [
    {
     "name": "stdout",
     "output_type": "stream",
     "text": [
      "Collecting openpyxl\n",
      "  Downloading openpyxl-3.1.2-py2.py3-none-any.whl.metadata (2.5 kB)\n",
      "Collecting et-xmlfile (from openpyxl)\n",
      "  Downloading et_xmlfile-1.1.0-py3-none-any.whl.metadata (1.8 kB)\n",
      "Downloading openpyxl-3.1.2-py2.py3-none-any.whl (249 kB)\n",
      "   ---------------------------------------- 0.0/250.0 kB ? eta -:--:--\n",
      "   - -------------------------------------- 10.2/250.0 kB ? eta -:--:--\n",
      "   -------------- ------------------------ 92.2/250.0 kB 871.5 kB/s eta 0:00:01\n",
      "   ---------------------------------------- 250.0/250.0 kB 1.9 MB/s eta 0:00:00\n",
      "Downloading et_xmlfile-1.1.0-py3-none-any.whl (4.7 kB)\n",
      "Installing collected packages: et-xmlfile, openpyxl\n",
      "Successfully installed et-xmlfile-1.1.0 openpyxl-3.1.2\n"
     ]
    }
   ],
   "source": [
    "#Instalando el openpyxl\n",
    "!pip install openpyxl"
   ]
  },
  {
   "cell_type": "code",
   "execution_count": 16,
   "id": "ccf824e6-8298-49a5-9cc8-dad5ccf50116",
   "metadata": {},
   "outputs": [
    {
     "name": "stdout",
     "output_type": "stream",
     "text": [
      "3.1.2\n"
     ]
    }
   ],
   "source": [
    "# Verificamos si esta instalado el openpyxl\n",
    "import openpyxl\n",
    "print(openpyxl.__version__)"
   ]
  },
  {
   "cell_type": "code",
   "execution_count": 4,
   "id": "53aaf36b-ae72-456c-863b-ab6a0c14edef",
   "metadata": {},
   "outputs": [
    {
     "name": "stdout",
     "output_type": "stream",
     "text": [
      "DataFrame original:\n",
      "           Nombres         Apellidos  Edad         Distrito\n",
      "0    Mario Antonio  Huapalla Morales    42  Cercado de Lima\n",
      "1      Jose Daniel    Osorio Morales    31            Breña\n",
      "2  Stefani Daniela  Morales Castillo    27            Lince\n",
      "3      Maia Dahela    Bustos Morales     7       San Miguel\n",
      "Dataframe con la columna correo:\n",
      "           Nombres         Apellidos  Edad         Distrito  \\\n",
      "0    Mario Antonio  Huapalla Morales    42  Cercado de Lima   \n",
      "1      Jose Daniel    Osorio Morales    31            Breña   \n",
      "2  Stefani Daniela  Morales Castillo    27            Lince   \n",
      "3      Maia Dahela    Bustos Morales     7       San Miguel   \n",
      "\n",
      "               Correo  \n",
      "0  mhuaplla@gmail.com  \n",
      "1  josorito@gmail.com  \n",
      "2  smorales@gmail.com  \n",
      "3   mbustos@gmail.com  \n",
      "Dataframe filtrado por edad mayor a 30:\n",
      "         Nombres         Apellidos  Edad         Distrito              Correo\n",
      "0  Mario Antonio  Huapalla Morales    42  Cercado de Lima  mhuaplla@gmail.com\n",
      "1    Jose Daniel    Osorio Morales    31            Breña  josorito@gmail.com\n",
      "El promedio de la edad es: 26.75\n"
     ]
    }
   ],
   "source": [
    "#importamos la biblioteca\n",
    "import pandas as pd\n",
    "\n",
    "#creamos el DataFrame desde un diccionario\n",
    "data={\n",
    "    'Nombres':['Mario Antonio','Jose Daniel','Stefani Daniela','Maia Dahela'],\n",
    "    'Apellidos':['Huapalla Morales','Osorio Morales','Morales Castillo','Bustos Morales'],\n",
    "    'Edad':[42,31,27,7],\n",
    "    'Distrito':['Cercado de Lima','Breña','Lince','San Miguel']                 \n",
    "}\n",
    "df=pd.DataFrame(data)\n",
    "print(\"DataFrame original:\")\n",
    "print(df)\n",
    "\n",
    "#agregamos una columna\n",
    "df['Correo']=['mhuaplla@gmail.com','josorito@gmail.com','smorales@gmail.com','mbustos@gmail.com']\n",
    "print(\"Dataframe con la columna correo:\")\n",
    "print(df)\n",
    "\n",
    "#filtrar datos\n",
    "df_filtro=df[df['Edad']>30]\n",
    "print(\"Dataframe filtrado por edad mayor a 30:\")\n",
    "print(df_filtro)\n",
    "\n",
    "#Calculamos el promedio de edades\n",
    "promedio_edad=df['Edad'].mean()\n",
    "print(f\"El promedio de la edad es: {promedio_edad}\")\n",
    "\n",
    "#guardamos el dato en CSV\n",
    "df.to_csv(\"datasets/datos_csv.csv\", index=False)\n",
    "\n",
    "#guardando los datos en Excel\n",
    "df.to_excel(\"datasets/datos_excel.xlsx\", index=False)\n",
    "df_filtro.to_excel(\"datasets/datos_filtrados.xlsx\", index=False)"
   ]
  },
  {
   "cell_type": "markdown",
   "id": "9f40f878",
   "metadata": {},
   "source": [
    "# Regresion Lineal\n",
    "\n",
    "## Ejemplo 1 \n",
    "\n",
    "Predecir el precio de una casa basado en su tamaño(superficie en metros cuadrados)\n",
    "\n",
    "### Definiendo variables\n",
    "\n",
    "#### - Variables Dependientes --> (X) --> Características\n",
    "- Tamaño\n",
    "- Numero de habitaciones\n",
    "- Ubicación\n",
    "- Antiguedad\n",
    "- Características adicionales\n",
    "#### - Variables Independientes --> (Y) --> Etiqueta\n",
    "- Precio de la casa"
   ]
  },
  {
   "cell_type": "code",
   "execution_count": 2,
   "id": "8f086439-07f4-4472-9d89-4820c4257cda",
   "metadata": {},
   "outputs": [
    {
     "name": "stdout",
     "output_type": "stream",
     "text": [
      "Error: 603368497.7511866\n",
      "Predicciones: [375436.4396361]\n"
     ]
    }
   ],
   "source": [
    "# importamos las bibliotecas necesarias\n",
    "import pandas as pd\n",
    "from sklearn.model_selection import train_test_split\n",
    "from sklearn.linear_model import LinearRegression\n",
    "from sklearn.metrics import mean_squared_error\n",
    "\n",
    "# creamos un dataframe\n",
    "data={\n",
    "    'tamaño':[120,150,80,200],\n",
    "    'habitaciones':[3,4,2,5],\n",
    "    'baños':[2,3,1,3],\n",
    "    'ubicacion':[1,2,1,3],\n",
    "    'antiguedad':[10,15,5,20],\n",
    "    'precio':[300000,400000,200000,500000]\n",
    "}\n",
    "\n",
    "df=pd.DataFrame(data)\n",
    "\n",
    "#separar las caracteristicas (x) y las etiquetas(y)\n",
    "x=df[['tamaño','habitaciones','baños','ubicacion','antiguedad']]\n",
    "y=df['precio']\n",
    "\n",
    "#dividir los datos en conjunto de entrenamiento y prueba\n",
    "x_train,x_test,y_train,y_test=train_test_split(x,y, test_size=0.2, random_state=42)\n",
    "\n",
    "#crear y entrenar al modelo\n",
    "model=LinearRegression()\n",
    "model.fit(x_train, y_train)\n",
    "\n",
    "#hacer predicciones\n",
    "y_pred=model.predict(x_test)\n",
    "\n",
    "#evaluar el modelo\n",
    "mse=mean_squared_error(y_test, y_pred)\n",
    "print(f'Error: {mse}')\n",
    "\n",
    "#mostrar predicciones\n",
    "print(f'Predicciones: {y_pred}') "
   ]
  }
 ],
 "metadata": {
  "kernelspec": {
   "display_name": "Python 3",
   "language": "python",
   "name": "python3"
  },
  "language_info": {
   "codemirror_mode": {
    "name": "ipython",
    "version": 3
   },
   "file_extension": ".py",
   "mimetype": "text/x-python",
   "name": "python",
   "nbconvert_exporter": "python",
   "pygments_lexer": "ipython3",
   "version": "3.9.13"
  }
 },
 "nbformat": 4,
 "nbformat_minor": 5
}
