{
 "cells": [
  {
   "cell_type": "markdown",
   "id": "89dfed3e",
   "metadata": {},
   "source": [
    "## La librería Numpy "
   ]
  },
  {
   "cell_type": "code",
   "execution_count": 1,
   "id": "19146a09",
   "metadata": {},
   "outputs": [],
   "source": [
    "import numpy as np"
   ]
  },
  {
   "cell_type": "markdown",
   "id": "09d50115",
   "metadata": {},
   "source": [
    "## Creación de Arrays"
   ]
  },
  {
   "cell_type": "code",
   "execution_count": 5,
   "id": "ed81eeb9",
   "metadata": {},
   "outputs": [],
   "source": [
    "A=np.array([[1,2],[4,3]])"
   ]
  },
  {
   "cell_type": "code",
   "execution_count": 6,
   "id": "96867523",
   "metadata": {},
   "outputs": [
    {
     "name": "stdout",
     "output_type": "stream",
     "text": [
      "[[1 2]\n",
      " [4 3]]\n"
     ]
    }
   ],
   "source": [
    "print(A)"
   ]
  },
  {
   "cell_type": "code",
   "execution_count": 9,
   "id": "95a04e05",
   "metadata": {},
   "outputs": [],
   "source": [
    "B=np.empty([3,2])"
   ]
  },
  {
   "cell_type": "code",
   "execution_count": 10,
   "id": "85c88530",
   "metadata": {},
   "outputs": [
    {
     "name": "stdout",
     "output_type": "stream",
     "text": [
      "[[0. 0.]\n",
      " [0. 0.]\n",
      " [0. 0.]]\n"
     ]
    }
   ],
   "source": [
    "print(B)"
   ]
  },
  {
   "cell_type": "code",
   "execution_count": 11,
   "id": "f2556b8c",
   "metadata": {},
   "outputs": [],
   "source": [
    "B=np.ones([3,2])"
   ]
  },
  {
   "cell_type": "code",
   "execution_count": 12,
   "id": "4726c6c4",
   "metadata": {},
   "outputs": [
    {
     "name": "stdout",
     "output_type": "stream",
     "text": [
      "[[1. 1.]\n",
      " [1. 1.]\n",
      " [1. 1.]]\n"
     ]
    }
   ],
   "source": [
    "print(B)"
   ]
  },
  {
   "cell_type": "code",
   "execution_count": 13,
   "id": "cf363c61",
   "metadata": {},
   "outputs": [],
   "source": [
    "C=np.identity(5)"
   ]
  },
  {
   "cell_type": "code",
   "execution_count": 14,
   "id": "c01f2bfb",
   "metadata": {},
   "outputs": [
    {
     "name": "stdout",
     "output_type": "stream",
     "text": [
      "[[1. 0. 0. 0. 0.]\n",
      " [0. 1. 0. 0. 0.]\n",
      " [0. 0. 1. 0. 0.]\n",
      " [0. 0. 0. 1. 0.]\n",
      " [0. 0. 0. 0. 1.]]\n"
     ]
    }
   ],
   "source": [
    "print(C)"
   ]
  },
  {
   "cell_type": "code",
   "execution_count": 18,
   "id": "9d629598",
   "metadata": {},
   "outputs": [
    {
     "name": "stdout",
     "output_type": "stream",
     "text": [
      "[ 1.   1.5  2.   2.5  3.   3.5  4.   4.5  5.   5.5  6.   6.5  7.   7.5\n",
      "  8.   8.5  9.   9.5 10.  10.5]\n"
     ]
    }
   ],
   "source": [
    "D=np.arange(1,11,0.5)\n",
    "print(D)"
   ]
  },
  {
   "cell_type": "code",
   "execution_count": 21,
   "id": "399c1fad",
   "metadata": {},
   "outputs": [
    {
     "name": "stdout",
     "output_type": "stream",
     "text": [
      "[ 1.    3.25  5.5   7.75 10.  ]\n"
     ]
    }
   ],
   "source": [
    "E=np.linspace(1,10,5)\n",
    "print(E)"
   ]
  },
  {
   "cell_type": "code",
   "execution_count": 22,
   "id": "5b181bb8",
   "metadata": {},
   "outputs": [
    {
     "name": "stdout",
     "output_type": "stream",
     "text": [
      "[[0.82558558 0.31868516]\n",
      " [0.67519448 0.15507831]\n",
      " [0.50074246 0.08011629]]\n"
     ]
    }
   ],
   "source": [
    "F=np.random.random([3,2])\n",
    "print(F)"
   ]
  },
  {
   "cell_type": "markdown",
   "id": "e3cf9bb1",
   "metadata": {},
   "source": [
    "## Características de un Array"
   ]
  },
  {
   "cell_type": "code",
   "execution_count": 24,
   "id": "bf058ca8",
   "metadata": {},
   "outputs": [
    {
     "data": {
      "text/plain": [
       "2"
      ]
     },
     "execution_count": 24,
     "metadata": {},
     "output_type": "execute_result"
    }
   ],
   "source": [
    "A.ndim ### si quiero acceder a la dimensión"
   ]
  },
  {
   "cell_type": "code",
   "execution_count": 25,
   "id": "f68b82b3",
   "metadata": {},
   "outputs": [
    {
     "data": {
      "text/plain": [
       "(3, 2)"
      ]
     },
     "execution_count": 25,
     "metadata": {},
     "output_type": "execute_result"
    }
   ],
   "source": [
    "B.shape ### si quiero acceder a la forma"
   ]
  },
  {
   "cell_type": "code",
   "execution_count": 26,
   "id": "bbbc5570",
   "metadata": {},
   "outputs": [
    {
     "data": {
      "text/plain": [
       "25"
      ]
     },
     "execution_count": 26,
     "metadata": {},
     "output_type": "execute_result"
    }
   ],
   "source": [
    "C.size ### si quiero acceder al tamaño"
   ]
  },
  {
   "cell_type": "code",
   "execution_count": 27,
   "id": "04036738",
   "metadata": {},
   "outputs": [
    {
     "data": {
      "text/plain": [
       "dtype('float64')"
      ]
     },
     "execution_count": 27,
     "metadata": {},
     "output_type": "execute_result"
    }
   ],
   "source": [
    "D.dtype ### si quiero acceder al tipo de dato"
   ]
  },
  {
   "cell_type": "code",
   "execution_count": 28,
   "id": "75fed0f3",
   "metadata": {},
   "outputs": [
    {
     "name": "stdout",
     "output_type": "stream",
     "text": [
      "[[1 2 3]\n",
      " [4 5 6]\n",
      " [7 8 9]]\n"
     ]
    }
   ],
   "source": [
    "A=np.array([[1,2,3],([4,5,6]),([7,8,9])])\n",
    "print(A)"
   ]
  },
  {
   "cell_type": "code",
   "execution_count": 33,
   "id": "b74cb42a",
   "metadata": {},
   "outputs": [
    {
     "name": "stdout",
     "output_type": "stream",
     "text": [
      "[[ 1  2  3]\n",
      " [ 4  5  6]\n",
      " [24  8  9]]\n"
     ]
    }
   ],
   "source": [
    "A[2,0]=24 ### Se ha cambiado los valores de una array en este caso el 7\n",
    "print(A)"
   ]
  },
  {
   "cell_type": "code",
   "execution_count": 35,
   "id": "b74a4e21",
   "metadata": {},
   "outputs": [
    {
     "data": {
      "text/plain": [
       "array([[1, 2],\n",
       "       [4, 5]])"
      ]
     },
     "execution_count": 35,
     "metadata": {},
     "output_type": "execute_result"
    }
   ],
   "source": [
    "A[:2,:2] ### Usando los índices accedemos a rangos de los elementos como a su matriz, es decir ubicamos un array de manera más precisa."
   ]
  },
  {
   "cell_type": "code",
   "execution_count": 36,
   "id": "19dddc53",
   "metadata": {},
   "outputs": [
    {
     "data": {
      "text/plain": [
       "array([[2, 3],\n",
       "       [5, 6]])"
      ]
     },
     "execution_count": 36,
     "metadata": {},
     "output_type": "execute_result"
    }
   ],
   "source": [
    "A[:2,1:3]"
   ]
  },
  {
   "cell_type": "markdown",
   "id": "9be08591",
   "metadata": {},
   "source": [
    "## Filtrando elementos de un Array"
   ]
  },
  {
   "cell_type": "code",
   "execution_count": 42,
   "id": "914513c1",
   "metadata": {},
   "outputs": [
    {
     "name": "stdout",
     "output_type": "stream",
     "text": [
      "[[ 1  7  3  4]\n",
      " [ 2  4  5  6]\n",
      " [14  9  8 17]]\n"
     ]
    },
    {
     "data": {
      "text/plain": [
       "array([ 4,  2,  4,  6, 14,  8])"
      ]
     },
     "execution_count": 42,
     "metadata": {},
     "output_type": "execute_result"
    }
   ],
   "source": [
    "A=np.array([[1,7,3,4],[2,4,5,6],[14,9,8,17]])\n",
    "print(A)\n",
    "A[A%2==0]"
   ]
  },
  {
   "cell_type": "code",
   "execution_count": 43,
   "id": "ea3f0a56",
   "metadata": {},
   "outputs": [
    {
     "name": "stdout",
     "output_type": "stream",
     "text": [
      "[array([1, 7, 3, 4]) array([ 2, 12,  4,  5,  6]) array([14,  9,  8, 17])]\n",
      "[array([4]), array([ 2, 12,  4,  6]), array([14,  8])]\n"
     ]
    }
   ],
   "source": [
    "# Crear un array de listas de diferentes longitudes\n",
    "A = np.array([np.array([1, 7, 3, 4]), np.array([2, 12, 4, 5, 6]), np.array([14, 9, 8, 17])], dtype=object)\n",
    "print(A)\n",
    "\n",
    "# Aplicar una operación a cada lista individualmente\n",
    "result = [sublist[sublist % 2 == 0] for sublist in A]\n",
    "print(result)"
   ]
  },
  {
   "cell_type": "code",
   "execution_count": 3,
   "id": "ff7b76cf",
   "metadata": {},
   "outputs": [
    {
     "name": "stdout",
     "output_type": "stream",
     "text": [
      "[[ 1  7  3  4]\n",
      " [ 2 12  4  1]\n",
      " [ 2  9  7  8]]\n"
     ]
    },
    {
     "data": {
      "text/plain": [
       "array([ 3,  4,  2, 12,  4,  2,  9,  8])"
      ]
     },
     "execution_count": 3,
     "metadata": {},
     "output_type": "execute_result"
    }
   ],
   "source": [
    "A=np.array([[1,7,3,4],[2,12,4,1],[2,9,7,8]])\n",
    "print(A)\n",
    "A[(A%2==0) | (A%3==0)]"
   ]
  },
  {
   "cell_type": "markdown",
   "id": "0b97befc",
   "metadata": {},
   "source": [
    "**Ejemplo:**\n",
    "\n",
    "1. Construir un array de 3 filas, donde:\n",
    "\n",
    "   a. La primera fila este formada por 1,2,3,4.\n",
    "\n",
    "   b. Los elementos de la segunda fila son el triple de los de la primera.\n",
    "\n",
    "   c. Los elementos de la tercera fila son el cuadrado de los de la segunda fila.\n",
    "   \n",
    "   \n",
    "2. ¿Cuántos elementos de array son impares?"
   ]
  },
  {
   "cell_type": "code",
   "execution_count": 7,
   "id": "9dd90680",
   "metadata": {},
   "outputs": [
    {
     "name": "stdout",
     "output_type": "stream",
     "text": [
      "[[  1   2   3   4]\n",
      " [  3   6   9  12]\n",
      " [  9  36  81 144]]\n",
      "El número de elementos impares es:  6\n"
     ]
    }
   ],
   "source": [
    "f1=[1,2,3,4]\n",
    "M=np.array([f1,[3*k for k in f1],[(3*k)**2 for k in f1]])\n",
    "print(M)\n",
    "print('El número de elementos impares es: ',M[M%2!=0].size)"
   ]
  },
  {
   "cell_type": "code",
   "execution_count": 4,
   "id": "a39bfc03",
   "metadata": {},
   "outputs": [
    {
     "name": "stdout",
     "output_type": "stream",
     "text": [
      "[ 7  2  9 10]\n",
      "-------------------\n",
      "[[5.2 3.  4.5]\n",
      " [9.1 0.1 0.3]]\n",
      "-------------------\n",
      "[[[ 1  2  3]\n",
      "  [ 4  5  6]]\n",
      "\n",
      " [[ 7  8  9]\n",
      "  [10 11 12]]\n",
      "\n",
      " [[13 14 15]\n",
      "  [16 17 18]]]\n"
     ]
    }
   ],
   "source": [
    "# Arreglo unidimensional\n",
    "A = np.array([7, 2, 9, 10])\n",
    "print(A)\n",
    "print('-------------------')\n",
    "\n",
    "# Arreglo bidimensional\n",
    "B = np.array([[5.2, 3.0, 4.5], [9.1, 0.1, 0.3]])\n",
    "print(B)\n",
    "print('-------------------')\n",
    "\n",
    "# Arreglo tridimensional\n",
    "C = np.array([[[1, 2, 3], [4, 5, 6]], [[7, 8, 9], [10, 11, 12]], [[13, 14, 15], [16, 17, 18]]])\n",
    "print(C)"
   ]
  },
  {
   "cell_type": "code",
   "execution_count": 2,
   "id": "a0ae0183",
   "metadata": {},
   "outputs": [
    {
     "data": {
      "image/png": "[encoded data removed]",
      "text/plain": [
       "<Figure size 432x288 with 1 Axes>"
      ]
     },
     "metadata": {
      "needs_background": "light"
     },
     "output_type": "display_data"
    }
   ],
   "source": [
    "import numpy as np\n",
    "import matplotlib.pyplot as plt\n",
    "from mpl_toolkits.mplot3d import Axes3D\n",
    "\n",
    "# Crear el arreglo tridimensional\n",
    "C = np.array([[[1, 2, 3], [4, 5, 6]], \n",
    "              [[7, 8, 9], [10, 11, 12]], \n",
    "              [[13, 14, 15], [16, 17, 18]]])\n",
    "\n",
    "# Crear una figura y un conjunto de ejes en 3D\n",
    "fig = plt.figure()\n",
    "ax = fig.add_subplot(111, projection='3d')\n",
    "\n",
    "# Extraer los datos x, y, z del arreglo tridimensional\n",
    "# Para la simplicidad, usaremos los índices como coordenadas de la primera dimensión\n",
    "x = []\n",
    "y = []\n",
    "z = []\n",
    "\n",
    "for i in range(C.shape[0]):\n",
    "    for j in range(C.shape[1]):\n",
    "        for k in range(C.shape[2]):\n",
    "            x.append(i)\n",
    "            y.append(j)\n",
    "            z.append(C[i, j, k])\n",
    "\n",
    "# Graficar los puntos\n",
    "ax.scatter(x, y, z, c='b', marker='o')\n",
    "\n",
    "# Etiquetas de los ejes\n",
    "ax.set_xlabel('Eje X')\n",
    "ax.set_ylabel('Eje Y')\n",
    "ax.set_zlabel('Eje Z')\n",
    "\n",
    "# Mostrar el gráfico\n",
    "plt.show()\n"
   ]
  },
  {
   "cell_type": "code",
   "execution_count": 13,
   "id": "3acee97c",
   "metadata": {},
   "outputs": [
    {
     "data": {
      "image/png": "[encoded data removed]",
      "text/plain": [
       "<Figure size 432x288 with 1 Axes>"
      ]
     },
     "metadata": {
      "needs_background": "light"
     },
     "output_type": "display_data"
    }
   ],
   "source": [
    "import numpy as np\n",
    "import matplotlib.pyplot as plt\n",
    "from mpl_toolkits.mplot3d import Axes3D\n",
    "\n",
    "# Datos del arreglo tridimensional\n",
    "data = np.array([[[1, 2], [3, 4], [5, 6]],\n",
    "                 [[7, 8], [9, 7], [6, 5]],\n",
    "                 [[3, 0], [6, 6], [0, 7]],\n",
    "                 [[4, 7], [7, 5], [9, 8]]])\n",
    "\n",
    "# Dimensiones del arreglo\n",
    "d1, d2, d3 = data.shape\n",
    "\n",
    "# Crear figura y un conjunto de ejes en 3D\n",
    "fig = plt.figure()\n",
    "ax = fig.add_subplot(111, projection='3d')\n",
    "\n",
    "# Ajustes de los límites de los ejes para mejorar la visualización\n",
    "ax.set_xlim(0, d1)\n",
    "ax.set_ylim(0, d2)\n",
    "ax.set_zlim(0, d3)\n",
    "\n",
    "# Etiquetas de los ejes\n",
    "ax.set_xlabel('Eje 0')\n",
    "ax.set_ylabel('Eje 1')\n",
    "ax.set_zlabel('Eje 2')\n",
    "\n",
    "# Graficar el cubo con textos\n",
    "for i in range(d1):\n",
    "    for j in range(d2):\n",
    "        for k in range(d3):\n",
    "            ax.text(i + 0.5, j + 0.5, k + 0.5, str(data[i, j, k]),\n",
    "                    color='black', ha='center', va='center')\n",
    "            ax.plot([i, i+1, i+1, i, i], [j, j, j+1, j+1, j], [k, k, k, k, k], color='gray')\n",
    "            ax.plot([i, i+1, i+1, i, i], [j, j, j+1, j+1, j], [k+1, k+1, k+1, k+1, k+1], color='gray')\n",
    "            ax.plot([i, i], [j, j], [k, k+1], color='green')\n",
    "            ax.plot([i+1, i+1], [j, j], [k, k+1], color='gray')\n",
    "            ax.plot([i+1, i+1], [j+1, j+1], [k, k+1], color='gray')\n",
    "            ax.plot([i, i], [j+1, j+1], [k, k+1], color='gray')\n",
    "\n",
    "# Mostrar gráfico\n",
    "plt.show()\n",
    "\n"
   ]
  },
  {
   "cell_type": "markdown",
   "id": "29f4a8ee",
   "metadata": {},
   "source": [
    "## Eliminar y añadir elementos"
   ]
  },
  {
   "cell_type": "code",
   "execution_count": 9,
   "id": "ea1f3c91",
   "metadata": {},
   "outputs": [
    {
     "name": "stdout",
     "output_type": "stream",
     "text": [
      "[ 7  9 10]\n"
     ]
    }
   ],
   "source": [
    "C=np.delete(A,1)\n",
    "print(C)"
   ]
  },
  {
   "cell_type": "code",
   "execution_count": 5,
   "id": "646beb9e",
   "metadata": {},
   "outputs": [
    {
     "name": "stdout",
     "output_type": "stream",
     "text": [
      "[[3.  4.5]\n",
      " [0.1 0.3]]\n"
     ]
    }
   ],
   "source": [
    "D=np.delete(B,0,axis=1)\n",
    "print(D)"
   ]
  },
  {
   "cell_type": "code",
   "execution_count": 10,
   "id": "de71b363",
   "metadata": {},
   "outputs": [
    {
     "name": "stdout",
     "output_type": "stream",
     "text": [
      "[[5.2 3.  4.5 6. ]\n",
      " [9.1 0.1 0.3 7. ]]\n"
     ]
    }
   ],
   "source": [
    "E=np.append(B,[[6],[7]],axis=1)\n",
    "print(E)"
   ]
  },
  {
   "cell_type": "markdown",
   "id": "3bdd0e8d",
   "metadata": {},
   "source": [
    "## Operaciones con Arrays"
   ]
  },
  {
   "cell_type": "markdown",
   "id": "3ee3e69b",
   "metadata": {},
   "source": [
    "### Cambiando la forma de un array"
   ]
  },
  {
   "cell_type": "code",
   "execution_count": 11,
   "id": "9cecc9a4",
   "metadata": {},
   "outputs": [
    {
     "data": {
      "text/plain": [
       "array([[ 1.,  2.,  3.,  4.,  5.,  6.],\n",
       "       [ 7.,  8.,  9., 10., 11., 12.],\n",
       "       [13., 14., 15., 16., 17., 18.],\n",
       "       [19., 20., 21., 22., 23., 24.],\n",
       "       [25., 26., 27., 28., 29., 30.],\n",
       "       [31., 32., 33., 34., 35., 36.]])"
      ]
     },
     "execution_count": 11,
     "metadata": {},
     "output_type": "execute_result"
    }
   ],
   "source": [
    "A=np.linspace(1,36,36)\n",
    "A.reshape(6,6)"
   ]
  },
  {
   "cell_type": "markdown",
   "id": "e7a9a996",
   "metadata": {},
   "source": [
    "#### Suma, resta, multiplicación y división"
   ]
  },
  {
   "cell_type": "code",
   "execution_count": 18,
   "id": "565c28bf",
   "metadata": {},
   "outputs": [],
   "source": [
    "a=np.array([2,3,6])\n",
    "b=np.array([4,7,9])\n",
    "a+b\n",
    "np.add(a,b)\n",
    "a-b\n",
    "np.subtract(a,b)\n",
    "a*b\n",
    "np.multiply(a,b)\n",
    "a/b\n",
    "np.divide(a,b)\n",
    "\n",
    "7*a"
   ]
  },
  {
   "cell_type": "markdown",
   "id": "48ddf4e8",
   "metadata": {},
   "source": [
    "#### Operaciones matemáticas sobre elementos de un array"
   ]
  },
  {
   "cell_type": "code",
   "execution_count": 6,
   "id": "c9f85597",
   "metadata": {},
   "outputs": [
    {
     "data": {
      "text/plain": [
       "array([ 1.55740772, -2.18503986, -0.14254654,  1.15782128])"
      ]
     },
     "execution_count": 6,
     "metadata": {},
     "output_type": "execute_result"
    }
   ],
   "source": [
    "M=np.array([1,2,3,4])\n",
    "np.power(M,3) ## Potencia por 3\n",
    "np.log(M)     ## Toma logaritmo natural\n",
    "np.sqrt(M)    ## Raíz cuadrada\n",
    "np.sin(M)     ## Calcula el seno\n",
    "np.cos(M)     ## Calcula el coseno\n",
    "np.tan(M)     ## Calcula el tangente"
   ]
  },
  {
   "cell_type": "markdown",
   "id": "b9803049",
   "metadata": {},
   "source": [
    "#### Operaciones estadísticas con arrays"
   ]
  },
  {
   "cell_type": "code",
   "execution_count": 7,
   "id": "42ad1f68",
   "metadata": {},
   "outputs": [
    {
     "data": {
      "text/plain": [
       "array([0.00795566, 0.35871205, 0.71973325, 0.76793064, 0.68239775])"
      ]
     },
     "execution_count": 7,
     "metadata": {},
     "output_type": "execute_result"
    }
   ],
   "source": [
    "r=np.random.random([5])\n",
    "r"
   ]
  },
  {
   "cell_type": "code",
   "execution_count": 12,
   "id": "a9b72341",
   "metadata": {},
   "outputs": [
    {
     "data": {
      "text/plain": [
       "0.00795566308815765"
      ]
     },
     "execution_count": 12,
     "metadata": {},
     "output_type": "execute_result"
    }
   ],
   "source": [
    "np.mean(r) ## Promedio\n",
    "np.median(r) ## Mediana\n",
    "np.std(r)  ## Desviación estándar\n",
    "np.max(r)  ## Máxima de la data\n",
    "np.min(r)  ## Mínima de la data"
   ]
  },
  {
   "cell_type": "markdown",
   "id": "55f6d1b4",
   "metadata": {},
   "source": [
    "#### Algebra lineal con Arrays"
   ]
  },
  {
   "cell_type": "code",
   "execution_count": 23,
   "id": "1f6d6072",
   "metadata": {},
   "outputs": [
    {
     "data": {
      "text/plain": [
       "array([[1, 5, 2],\n",
       "       [2, 4, 5],\n",
       "       [3, 2, 6]])"
      ]
     },
     "execution_count": 23,
     "metadata": {},
     "output_type": "execute_result"
    }
   ],
   "source": [
    "a=np.array([1,2,3])\n",
    "b=np.array([5,4,2])\n",
    "c=np.array([2,5,6])\n",
    "np.dot(a,b) ### PRODUCTO PUNTO ENTRE \"a\" y \"b\"\n",
    "np.cross(a,b) ### CALCULA PRODUCTO CRUZ ENTRE DOS VECTORES\n",
    "M=np.array([a,b,c])\n",
    "np.linalg.inv(M) ### CALCULA LA INVERSA\n",
    "np.linalg.eigvals(M) ### CALCULA LOS AUTOVALORES DE LA MATRIZ \"M\"\n",
    "np.trace(M)  ### CALCULAR LA TRAZA DE LA MATRIZ(SUMA DE LAS DIAGONALES)\n",
    "np.transpose(M) ### CAMBIAR FILAS POR COLUMNAS"
   ]
  },
  {
   "cell_type": "markdown",
   "id": "a6fec158",
   "metadata": {},
   "source": [
    "Resolver el siguiente sistema lineal\n",
    "\n",
    "\n",
    "x + 2y = 3                 \n",
    "5x + 4y = 4\n"
   ]
  },
  {
   "cell_type": "code",
   "execution_count": 24,
   "id": "40207c68",
   "metadata": {},
   "outputs": [
    {
     "data": {
      "text/plain": [
       "array([-0.66666667,  1.83333333])"
      ]
     },
     "execution_count": 24,
     "metadata": {},
     "output_type": "execute_result"
    }
   ],
   "source": [
    "A=np.array([[1,2],[5,4]])\n",
    "b=np.array([3,4])\n",
    "np.linalg.solve(A,b)"
   ]
  },
  {
   "cell_type": "code",
   "execution_count": null,
   "id": "9ad17977",
   "metadata": {},
   "outputs": [],
   "source": []
  }
 ],
 "metadata": {
  "kernelspec": {
   "display_name": "Python 3",
   "language": "python",
   "name": "python3"
  },
  "language_info": {
   "codemirror_mode": {
    "name": "ipython",
    "version": 3
   },
   "file_extension": ".py",
   "mimetype": "text/x-python",
   "name": "python",
   "nbconvert_exporter": "python",
   "pygments_lexer": "ipython3",
   "version": "3.8.8"
  }
 },
 "nbformat": 4,
 "nbformat_minor": 5
}
